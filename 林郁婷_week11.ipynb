{
  "nbformat": 4,
  "nbformat_minor": 0,
  "metadata": {
    "colab": {
      "name": "林郁婷-week11.ipynb",
      "provenance": [],
      "authorship_tag": "ABX9TyNF+tS7xqLl+6dEACySHGDI",
      "include_colab_link": true
    },
    "kernelspec": {
      "name": "python3",
      "display_name": "Python 3"
    }
  },
  "cells": [
    {
      "cell_type": "markdown",
      "metadata": {
        "id": "view-in-github",
        "colab_type": "text"
      },
      "source": [
        "<a href=\"https://colab.research.google.com/github/qqazi77/-Computational-Thinking-and-Program-Design/blob/master/%E6%9E%97%E9%83%81%E5%A9%B7_week11.ipynb\" target=\"_parent\"><img src=\"https://colab.research.google.com/assets/colab-badge.svg\" alt=\"Open In Colab\"/></a>"
      ]
    },
    {
      "cell_type": "markdown",
      "metadata": {
        "id": "wYzNnRV_o_LK"
      },
      "source": [
        "# 習題解答:報告分組"
      ]
    },
    {
      "cell_type": "code",
      "metadata": {
        "colab": {
          "base_uri": "https://localhost:8080/"
        },
        "id": "Vsdh_6mqoAqZ",
        "outputId": "ee8171aa-0916-4fcd-decc-9ef2ac2f9948"
      },
      "source": [
        "# 方法(一):商數\n",
        "## input\n",
        "number = input(\"enter yur seat number?\")\n",
        "number = int(number)\n",
        "## process\n",
        "group = (number-1)//5\n",
        "## output\n",
        "print(\"group is\", group)"
      ],
      "execution_count": 9,
      "outputs": [
        {
          "output_type": "stream",
          "text": [
            "enter yur seat number?19\n",
            "group is 3\n"
          ],
          "name": "stdout"
        }
      ]
    },
    {
      "cell_type": "code",
      "metadata": {
        "id": "DF-Zh40Tqv2V"
      },
      "source": [
        ""
      ],
      "execution_count": null,
      "outputs": []
    }
  ]
}