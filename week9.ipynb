{
  "nbformat": 4,
  "nbformat_minor": 0,
  "metadata": {
    "colab": {
      "name": "week9.ipynb",
      "provenance": [],
      "authorship_tag": "ABX9TyPJmYtSeD6IM8AT71LJ86Y/",
      "include_colab_link": true
    },
    "kernelspec": {
      "name": "python3",
      "display_name": "Python 3"
    }
  },
  "cells": [
    {
      "cell_type": "markdown",
      "metadata": {
        "id": "view-in-github",
        "colab_type": "text"
      },
      "source": [
        "<a href=\"https://colab.research.google.com/github/qqazi77/-Computational-Thinking-and-Program-Design/blob/master/week9.ipynb\" target=\"_parent\"><img src=\"https://colab.research.google.com/assets/colab-badge.svg\" alt=\"Open In Colab\"/></a>"
      ]
    },
    {
      "cell_type": "code",
      "metadata": {
        "id": "hWnJ0wdHyFsj",
        "outputId": "9f1e9d9d-c0d4-48cb-e0e3-298823cd33d0",
        "colab": {
          "base_uri": "https://localhost:8080/"
        }
      },
      "source": [
        "x = float(input(\"請輸入座號\"))\n",
        "y = int((x - 1)/5)\n",
        "z = y + 1\n",
        "print(f'組別為第{z}組')"
      ],
      "execution_count": 2,
      "outputs": [
        {
          "output_type": "stream",
          "text": [
            "請輸入座號6\n",
            "組別為第2組\n"
          ],
          "name": "stdout"
        }
      ]
    }
  ]
}