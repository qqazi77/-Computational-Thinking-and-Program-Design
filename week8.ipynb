{
  "nbformat": 4,
  "nbformat_minor": 0,
  "metadata": {
    "colab": {
      "name": "week8.ipynb",
      "provenance": [],
      "authorship_tag": "ABX9TyN5rQNZE54lrSbcP1GbukM7",
      "include_colab_link": true
    },
    "kernelspec": {
      "name": "python3",
      "display_name": "Python 3"
    }
  },
  "cells": [
    {
      "cell_type": "markdown",
      "metadata": {
        "id": "view-in-github",
        "colab_type": "text"
      },
      "source": [
        "<a href=\"https://colab.research.google.com/github/qqazi77/-Computational-Thinking-and-Program-Design/blob/master/week8.ipynb\" target=\"_parent\"><img src=\"https://colab.research.google.com/assets/colab-badge.svg\" alt=\"Open In Colab\"/></a>"
      ]
    },
    {
      "cell_type": "code",
      "metadata": {
        "id": "uRquumluQk2F"
      },
      "source": [
        "#例題1\n",
        "print(\"一件上衣300元,一件褲子350元,一件背心400元\")\n",
        "a=int(input(\"上衣購買數量:\"))\n",
        "b=int(input(\"褲子購買數量:\"))\n",
        "c=int(input(\"背心購買數量:\"))\n",
        "s=a*300+b*350+c*400\n",
        "print(\"總金額:%d\" %(s))\n"
      ],
      "execution_count": null,
      "outputs": []
    },
    {
      "cell_type": "code",
      "metadata": {
        "id": "jEyyh4veTiB-"
      },
      "source": [
        "#例題2\n",
        "print(\"一罐20一打200不足一打則個別賣\")\n",
        "a=int(input(\"購買數量:\"))\n",
        "if(a<12):\n",
        "  s=a*20\n",
        "else:\n",
        "  x=a%12\n",
        "  y=(a-x)/12\n",
        "  s=x*20+y*200\n",
        "print(\"總數量:%d\" %(a)),\"總金額:%d\" %(s)"
      ],
      "execution_count": 1,
      "outputs": []
    },
    {
      "cell_type": "code",
      "metadata": {
        "id": "hgVA9NvxVazF"
      },
      "source": [
        "#例題3\n",
        "a=int(input(\"第一次期中考:\"))\n",
        "b=int(input(\"第二次期中考:\"))\n",
        "c=int(input(\"第三次期中考:\"))\n",
        "x=a+b+c\n",
        "y=(a+b+c)/3\n",
        "print(\"總分為%d\" %(x),\"平均為:8.2f\" %(y))"
      ],
      "execution_count": null,
      "outputs": []
    }
  ]
}